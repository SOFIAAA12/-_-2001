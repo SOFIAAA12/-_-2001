{
  "nbformat": 4,
  "nbformat_minor": 0,
  "metadata": {
    "kernelspec": {
      "display_name": "Python 3",
      "language": "python",
      "name": "python3"
    },
    "language_info": {
      "codemirror_mode": {
        "name": "ipython",
        "version": 3
      },
      "file_extension": ".py",
      "mimetype": "text/x-python",
      "name": "python",
      "nbconvert_exporter": "python",
      "pygments_lexer": "ipython3",
      "version": "3.6.3"
    },
    "colab": {
      "provenance": []
    }
  },
  "cells": [
    {
      "cell_type": "markdown",
      "metadata": {
        "id": "WAyRDni_6GHU"
      },
      "source": [
        "### Урок 5. Домашняя работа\n",
        "\n",
        "Есть два набора точек - *x_hw* и *y_hw*. В рамках домашней работы нужно\n",
        "* визуализировать набор точек\n",
        "* найти коэффициенты регрессии $w_0, w_1$ по шагам, как в уроке\n",
        "* посчитать предсказание в виде $\\hat{y} = w_0 + w_1x$ и визуализировать его вместе с точками *x_hw* и *y_hw*"
      ]
    },
    {
      "cell_type": "code",
      "metadata": {
        "id": "74wa1k6p6GHf"
      },
      "source": [
        "x_hw = [50, 60, 70, 100]\n",
        "y_hw = [10, 15, 40, 45]"
      ],
      "execution_count": 1,
      "outputs": []
    },
    {
      "cell_type": "code",
      "source": [
        "from matplotlib import pyplot as plt\n",
        "\n",
        "%matplotlib inline\n",
        "\n",
        "plt.scatter([50, 60, 70, 100], [10, 30, 40, 50], 40, 'g', 'o', alpha=0.8)\n",
        "plt.show()"
      ],
      "metadata": {
        "id": "VjLG01FTejES",
        "outputId": "cc3293f1-073d-4b42-eed3-90c99812e4f5",
        "colab": {
          "base_uri": "https://localhost:8080/",
          "height": 430
        }
      },
      "execution_count": 2,
      "outputs": [
        {
          "output_type": "display_data",
          "data": {
            "text/plain": [
              "<Figure size 640x480 with 1 Axes>"
            ],
            "image/png": "[encoded data removed]"
          },
          "metadata": {}
        }
      ]
    },
    {
      "cell_type": "code",
      "source": [
        "import numpy as np\n",
        "\n",
        "X = np.array([[1, 50],[1, 60],[1, 70],[1, 100]])\n",
        "\n",
        "X"
      ],
      "metadata": {
        "id": "CkjBmIZfelCP",
        "outputId": "39a78caf-e55c-4850-e779-fc148062ae34",
        "colab": {
          "base_uri": "https://localhost:8080/"
        }
      },
      "execution_count": 3,
      "outputs": [
        {
          "output_type": "execute_result",
          "data": {
            "text/plain": [
              "array([[  1,  50],\n",
              "       [  1,  60],\n",
              "       [  1,  70],\n",
              "       [  1, 100]])"
            ]
          },
          "metadata": {},
          "execution_count": 3
        }
      ]
    },
    {
      "cell_type": "code",
      "source": [
        "Y = np.array([[10],[30],[40],[50]])\n",
        "\n",
        "Y"
      ],
      "metadata": {
        "id": "FwyRtS2reo_6",
        "outputId": "a8f34dce-9fa3-45ac-c527-84267559573a",
        "colab": {
          "base_uri": "https://localhost:8080/"
        }
      },
      "execution_count": 4,
      "outputs": [
        {
          "output_type": "execute_result",
          "data": {
            "text/plain": [
              "array([[10],\n",
              "       [30],\n",
              "       [40],\n",
              "       [50]])"
            ]
          },
          "metadata": {},
          "execution_count": 4
        }
      ]
    },
    {
      "cell_type": "code",
      "source": [
        "X_T_X = (X.T).dot(X)\n",
        "\n",
        "X_T_X"
      ],
      "metadata": {
        "id": "FtRee0CperJm",
        "outputId": "8585c690-329e-4e9c-f03a-c5ad540686c8",
        "colab": {
          "base_uri": "https://localhost:8080/"
        }
      },
      "execution_count": 5,
      "outputs": [
        {
          "output_type": "execute_result",
          "data": {
            "text/plain": [
              "array([[    4,   280],\n",
              "       [  280, 21000]])"
            ]
          },
          "metadata": {},
          "execution_count": 5
        }
      ]
    },
    {
      "cell_type": "code",
      "source": [
        "from numpy.linalg import inv\n",
        "\n",
        "X_T_X_inverted = inv(X_T_X)\n",
        "\n",
        "X_T_X_inverted"
      ],
      "metadata": {
        "id": "D6Eyx_j3euEo",
        "outputId": "53da1fd8-4786-4029-fadd-e575e3cb4b2e",
        "colab": {
          "base_uri": "https://localhost:8080/"
        }
      },
      "execution_count": 6,
      "outputs": [
        {
          "output_type": "execute_result",
          "data": {
            "text/plain": [
              "array([[ 3.75000000e+00, -5.00000000e-02],\n",
              "       [-5.00000000e-02,  7.14285714e-04]])"
            ]
          },
          "metadata": {},
          "execution_count": 6
        }
      ]
    },
    {
      "cell_type": "code",
      "source": [
        "w = X_T_X_inverted.dot(X.T).dot(Y)\n",
        "\n",
        "print(\"w_1=%.5f, w_2=%.3f\" % (w[0][0],w[1][0]))"
      ],
      "metadata": {
        "id": "ger3Nj6Devvd",
        "outputId": "7a38bf7b-7b04-4602-8b3c-29cc609809bc",
        "colab": {
          "base_uri": "https://localhost:8080/"
        }
      },
      "execution_count": 7,
      "outputs": [
        {
          "output_type": "stream",
          "name": "stdout",
          "text": [
            "w_1=-17.50000, w_2=0.714\n"
          ]
        }
      ]
    },
    {
      "cell_type": "code",
      "source": [
        "from matplotlib import pyplot as plt\n",
        "import numpy as np\n",
        "\n",
        "%matplotlib inline\n",
        "\n",
        "# задаём границы координатных осей\n",
        "margin = 10\n",
        "X_min = 20\n",
        "X_max = X[:,1].max()+margin\n",
        "\n",
        "# набор точек, чтобы нарисовать прямую\n",
        "X_support = np.linspace(X_min, X_max, num=100)\n",
        "# предсказания нашей модели\n",
        "Y_model = w[0][0] + w[1][0]*X_support"
      ],
      "metadata": {
        "id": "8GXHBVs2ez9V"
      },
      "execution_count": 8,
      "outputs": []
    },
    {
      "cell_type": "code",
      "source": [
        "# настройка графика\n",
        "plt.xlim(X_min, X_max)\n",
        "plt.ylim(0, Y[:,0].max() + margin)\n",
        "# рисуем исходные точки\n",
        "plt.scatter(X[:,1], Y[:,0], 40, 'g', 'o', alpha=0.8)\n",
        "# предсказания модели\n",
        "plt.plot(X_support, Y_model)\n",
        "\n",
        "plt.show()"
      ],
      "metadata": {
        "id": "qTlIksnke2l2",
        "outputId": "4b9c5888-0ffd-49bc-8c29-83e41c18f7d1",
        "colab": {
          "base_uri": "https://localhost:8080/",
          "height": 435
        }
      },
      "execution_count": 9,
      "outputs": [
        {
          "output_type": "display_data",
          "data": {
            "text/plain": [
              "<Figure size 640x480 with 1 Axes>"
            ],
            "image/png": "[encoded data removed]"
          },
          "metadata": {}
        }
      ]
    }
  ]
}